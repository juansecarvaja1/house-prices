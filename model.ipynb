{
 "cells": [
  {
   "cell_type": "code",
   "execution_count": 37,
   "id": "de768124",
   "metadata": {},
   "outputs": [],
   "source": [
    "from sklearn.model_selection import train_test_split as tts\n",
    "from sklearn.metrics import mean_absolute_error as mae\n",
    "import pandas as pd\n",
    "from sklearn.ensemble import RandomForestRegressor\n",
    "from sklearn.impute import SimpleImputer\n",
    "from sklearn.preprocessing import OrdinalEncoder\n",
    "from sklearn.pipeline import Pipeline\n",
    "from sklearn.compose import ColumnTransformer"
   ]
  },
  {
   "cell_type": "code",
   "execution_count": 21,
   "id": "24b98575",
   "metadata": {},
   "outputs": [],
   "source": [
    "path='test.csv'\n",
    "tpath='train.csv'\n",
    "test= pd.read_csv(path)\n",
    "train= pd.read_csv(tpath)"
   ]
  },
  {
   "cell_type": "code",
   "execution_count": 22,
   "id": "e35ccff5",
   "metadata": {},
   "outputs": [],
   "source": [
    "y= train.SalePrice\n",
    "train.pop('SalePrice')\n",
    "x=train\n",
    "vx=test"
   ]
  },
  {
   "cell_type": "code",
   "execution_count": 40,
   "id": "9a3690f9-4a8c-45f9-897e-dd9fbc15faa9",
   "metadata": {},
   "outputs": [],
   "source": [
    "numerical_cols = [cname for cname in x.columns if \n",
    "                x[cname].dtype in ['int64', 'float64']]"
   ]
  },
  {
   "cell_type": "code",
   "execution_count": 42,
   "id": "79f29c10-6539-47c7-b6fc-4b17042bc433",
   "metadata": {},
   "outputs": [],
   "source": [
    "categorical_cols = [cname for cname in x.columns if\n",
    "                    x[cname].dtype == \"object\"]"
   ]
  },
  {
   "cell_type": "code",
   "execution_count": 43,
   "id": "55fbd519",
   "metadata": {},
   "outputs": [],
   "source": [
    "n_t= SimpleImputer(strategy='constant')\n",
    "c_t= Pipeline(steps=[\n",
    "    ('imputer', SimpleImputer(strategy='most_frequent')),\n",
    "    ('o_encoder', OrdinalEncoder(handle_unknown='ignore'))\n",
    "])\n"
   ]
  },
  {
   "cell_type": "code",
   "execution_count": 44,
   "id": "f70aa1eb-2dc2-40e8-972c-2760b80c710c",
   "metadata": {},
   "outputs": [],
   "source": [
    "preprocessor = ColumnTransformer(\n",
    "    transformers=[\n",
    "        ('num', n_t, numerical_cols),\n",
    "        ('cat', c_t, categorical_cols)\n",
    "    ])"
   ]
  },
  {
   "cell_type": "code",
   "execution_count": 27,
   "id": "81c3b4a2",
   "metadata": {},
   "outputs": [],
   "source": [
    "md= RandomForestRegressor(random_state=0, max_leaf_nodes=395)"
   ]
  },
  {
   "cell_type": "code",
   "execution_count": 46,
   "id": "9fd29538",
   "metadata": {},
   "outputs": [],
   "source": [
    "mdp = Pipeline(steps=[('preprocessor', preprocessor),\n",
    "                              ('model', md)\n",
    "                             ])"
   ]
  },
  {
   "cell_type": "code",
   "execution_count": 53,
   "id": "a55943d1",
   "metadata": {},
   "outputs": [],
   "source": [
    "mdp.fit(x, y)\n",
    "test_preds=mdp.predict(vx)"
   ]
  },
  {
   "cell_type": "code",
   "execution_count": 54,
   "id": "4eb8ad51",
   "metadata": {
    "tags": []
   },
   "outputs": [],
   "source": [
    "output = pd.DataFrame({'Id': test.Id,\n",
    "                       'SalePrice': test_preds})\n",
    "output.to_csv('submission.csv', index=False)"
   ]
  },
  {
   "cell_type": "code",
   "execution_count": null,
   "id": "3ba0acaa",
   "metadata": {},
   "outputs": [],
   "source": []
  }
 ],
 "metadata": {
  "kernelspec": {
   "display_name": "Python 3 (ipykernel)",
   "language": "python",
   "name": "python3"
  },
  "language_info": {
   "codemirror_mode": {
    "name": "ipython",
    "version": 3
   },
   "file_extension": ".py",
   "mimetype": "text/x-python",
   "name": "python",
   "nbconvert_exporter": "python",
   "pygments_lexer": "ipython3",
   "version": "3.10.7"
  }
 },
 "nbformat": 4,
 "nbformat_minor": 5
}
