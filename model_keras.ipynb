{
 "cells": [
  {
   "cell_type": "code",
   "execution_count": 84,
   "id": "8fa9abf1-373f-4beb-8f38-73abbaf1710f",
   "metadata": {},
   "outputs": [],
   "source": [
    "import pandas as pd"
   ]
  },
  {
   "cell_type": "code",
   "execution_count": 85,
   "id": "82d88ce7-c36c-4347-8d56-bfa717178afc",
   "metadata": {},
   "outputs": [
    {
     "data": {
      "text/plain": [
       "Index(['Id', 'MSSubClass', 'MSZoning', 'LotFrontage', 'LotArea', 'Street',\n",
       "       'Alley', 'LotShape', 'LandContour', 'Utilities', 'LotConfig',\n",
       "       'LandSlope', 'Neighborhood', 'Condition1', 'Condition2', 'BldgType',\n",
       "       'HouseStyle', 'OverallQual', 'OverallCond', 'YearBuilt', 'YearRemodAdd',\n",
       "       'RoofStyle', 'RoofMatl', 'Exterior1st', 'Exterior2nd', 'MasVnrType',\n",
       "       'MasVnrArea', 'ExterQual', 'ExterCond', 'Foundation', 'BsmtQual',\n",
       "       'BsmtCond', 'BsmtExposure', 'BsmtFinType1', 'BsmtFinSF1',\n",
       "       'BsmtFinType2', 'BsmtFinSF2', 'BsmtUnfSF', 'TotalBsmtSF', 'Heating',\n",
       "       'HeatingQC', 'CentralAir', 'Electrical', '1stFlrSF', '2ndFlrSF',\n",
       "       'LowQualFinSF', 'GrLivArea', 'BsmtFullBath', 'BsmtHalfBath', 'FullBath',\n",
       "       'HalfBath', 'BedroomAbvGr', 'KitchenAbvGr', 'KitchenQual',\n",
       "       'TotRmsAbvGrd', 'Functional', 'Fireplaces', 'FireplaceQu', 'GarageType',\n",
       "       'GarageYrBlt', 'GarageFinish', 'GarageCars', 'GarageArea', 'GarageQual',\n",
       "       'GarageCond', 'PavedDrive', 'WoodDeckSF', 'OpenPorchSF',\n",
       "       'EnclosedPorch', '3SsnPorch', 'ScreenPorch', 'PoolArea', 'PoolQC',\n",
       "       'Fence', 'MiscFeature', 'MiscVal', 'MoSold', 'YrSold', 'SaleType',\n",
       "       'SaleCondition', 'SalePrice'],\n",
       "      dtype='object')"
      ]
     },
     "execution_count": 85,
     "metadata": {},
     "output_type": "execute_result"
    }
   ],
   "source": [
    "df=pd.read_csv('train.csv')\n",
    "df.columns"
   ]
  },
  {
   "cell_type": "code",
   "execution_count": 86,
   "id": "eb05a721-377e-4bb5-a748-d46d84069acc",
   "metadata": {},
   "outputs": [],
   "source": [
    "x = df.copy()\n",
    "y = x.pop('SalePrice')"
   ]
  },
  {
   "cell_type": "code",
   "execution_count": 87,
   "id": "f70ad637-f985-48ca-963c-4cffb38bc608",
   "metadata": {},
   "outputs": [],
   "source": [
    "from sklearn.preprocessing import StandardScaler, OrdinalEncoder\n",
    "from sklearn.compose import make_column_transformer, make_column_selector\n",
    "from sklearn.model_selection import train_test_split as tts\n",
    "import numpy as np\n",
    "from tensorflow import keras\n",
    "from tensorflow.keras import layers\n",
    "from sklearn.metrics import mean_absolute_error as mae\n",
    "from sklearn.impute import SimpleImputer"
   ]
  },
  {
   "cell_type": "code",
   "execution_count": 88,
   "id": "83267fc6-2f89-4a4f-804f-4ca9823a3e34",
   "metadata": {},
   "outputs": [],
   "source": [
    "nt=SimpleImputer(strategy='most_frequent')"
   ]
  },
  {
   "cell_type": "code",
   "execution_count": 89,
   "id": "1e2f1673-efd3-4a69-b800-589e8713fd5c",
   "metadata": {},
   "outputs": [],
   "source": [
    "x[:] = nt.fit_transform(x)"
   ]
  },
  {
   "cell_type": "code",
   "execution_count": 90,
   "id": "654a0a01-227e-481b-8624-ea88471feba7",
   "metadata": {},
   "outputs": [
    {
     "data": {
      "text/plain": [
       "(1460, 80)"
      ]
     },
     "execution_count": 90,
     "metadata": {},
     "output_type": "execute_result"
    }
   ],
   "source": [
    "x.shape"
   ]
  },
  {
   "cell_type": "code",
   "execution_count": 91,
   "id": "ff05e860-cf95-4ee4-8876-aed0df830008",
   "metadata": {},
   "outputs": [
    {
     "data": {
      "text/plain": [
       "0    208500\n",
       "1    181500\n",
       "2    223500\n",
       "3    140000\n",
       "4    250000\n",
       "Name: SalePrice, dtype: int64"
      ]
     },
     "execution_count": 91,
     "metadata": {},
     "output_type": "execute_result"
    }
   ],
   "source": [
    "y.head()"
   ]
  },
  {
   "cell_type": "code",
   "execution_count": 92,
   "id": "f4159b5d-5f55-43c8-9da2-58164bcd880b",
   "metadata": {},
   "outputs": [],
   "source": [
    "preprocessor = make_column_transformer(\n",
    "    (StandardScaler(),\n",
    "     make_column_selector(dtype_include=np.number)),\n",
    "    (OrdinalEncoder(),\n",
    "     make_column_selector(dtype_include=object)),    \n",
    ")"
   ]
  },
  {
   "cell_type": "code",
   "execution_count": 93,
   "id": "be49e45b-1eae-4991-a6c4-883ffc1ebbea",
   "metadata": {},
   "outputs": [],
   "source": [
    "cols_with_missing = [col for col in x.columns\n",
    "                     if x[col].isnull().any()]"
   ]
  },
  {
   "cell_type": "code",
   "execution_count": 94,
   "id": "a8bb40b8-6df7-4a6b-981e-0311e29fecec",
   "metadata": {},
   "outputs": [],
   "source": [
    "x = preprocessor.fit_transform(x)"
   ]
  },
  {
   "cell_type": "code",
   "execution_count": 95,
   "id": "f2b012a9-1d13-4395-9f9c-d0e4f4e99a55",
   "metadata": {},
   "outputs": [],
   "source": [
    "model = keras.Sequential([\n",
    "    layers.Dense(50, activation='relu', input_shape=[80]),\n",
    "    layers.Dense(50, activation='relu'),    \n",
    "    layers.Dense(50, activation='relu'),\n",
    "    layers.Dense(1),\n",
    "])"
   ]
  },
  {
   "cell_type": "code",
   "execution_count": 96,
   "id": "b468db7c-acdf-4101-ae64-678bb6c53ad8",
   "metadata": {},
   "outputs": [],
   "source": [
    "model.compile(\n",
    "    optimizer='adam',\n",
    "    loss='mae'\n",
    ")"
   ]
  },
  {
   "cell_type": "code",
   "execution_count": 115,
   "id": "1d8c6d52-1b95-41ec-b8a6-6753a6db993a",
   "metadata": {},
   "outputs": [
    {
     "name": "stdout",
     "output_type": "stream",
     "text": [
      "Epoch 1/150\n",
      "1/1 [==============================] - 0s 9ms/step - loss: 14412.5654\n",
      "Epoch 2/150\n",
      "1/1 [==============================] - 0s 8ms/step - loss: 14412.7080\n",
      "Epoch 3/150\n",
      "1/1 [==============================] - 0s 7ms/step - loss: 14411.1934\n",
      "Epoch 4/150\n",
      "1/1 [==============================] - 0s 6ms/step - loss: 14409.3916\n",
      "Epoch 5/150\n",
      "1/1 [==============================] - 0s 6ms/step - loss: 14409.6191\n",
      "Epoch 6/150\n",
      "1/1 [==============================] - 0s 8ms/step - loss: 14409.9463\n",
      "Epoch 7/150\n",
      "1/1 [==============================] - 0s 7ms/step - loss: 14408.1494\n",
      "Epoch 8/150\n",
      "1/1 [==============================] - 0s 7ms/step - loss: 14406.6572\n",
      "Epoch 9/150\n",
      "1/1 [==============================] - 0s 7ms/step - loss: 14406.5996\n",
      "Epoch 10/150\n",
      "1/1 [==============================] - 0s 6ms/step - loss: 14406.4316\n",
      "Epoch 11/150\n",
      "1/1 [==============================] - 0s 6ms/step - loss: 14405.5381\n",
      "Epoch 12/150\n",
      "1/1 [==============================] - 0s 8ms/step - loss: 14404.1436\n",
      "Epoch 13/150\n",
      "1/1 [==============================] - 0s 10ms/step - loss: 14403.4229\n",
      "Epoch 14/150\n",
      "1/1 [==============================] - 0s 8ms/step - loss: 14403.7109\n",
      "Epoch 15/150\n",
      "1/1 [==============================] - 0s 7ms/step - loss: 14402.9014\n",
      "Epoch 16/150\n",
      "1/1 [==============================] - 0s 7ms/step - loss: 14401.5654\n",
      "Epoch 17/150\n",
      "1/1 [==============================] - 0s 9ms/step - loss: 14401.2646\n",
      "Epoch 18/150\n",
      "1/1 [==============================] - 0s 8ms/step - loss: 14401.2559\n",
      "Epoch 19/150\n",
      "1/1 [==============================] - 0s 7ms/step - loss: 14400.1465\n",
      "Epoch 20/150\n",
      "1/1 [==============================] - 0s 8ms/step - loss: 14399.0537\n",
      "Epoch 21/150\n",
      "1/1 [==============================] - 0s 7ms/step - loss: 14398.6758\n",
      "Epoch 22/150\n",
      "1/1 [==============================] - 0s 8ms/step - loss: 14398.4326\n",
      "Epoch 23/150\n",
      "1/1 [==============================] - 0s 9ms/step - loss: 14397.2891\n",
      "Epoch 24/150\n",
      "1/1 [==============================] - 0s 6ms/step - loss: 14396.7520\n",
      "Epoch 25/150\n",
      "1/1 [==============================] - 0s 6ms/step - loss: 14396.4824\n",
      "Epoch 26/150\n",
      "1/1 [==============================] - 0s 7ms/step - loss: 14395.8945\n",
      "Epoch 27/150\n",
      "1/1 [==============================] - 0s 7ms/step - loss: 14394.9854\n",
      "Epoch 28/150\n",
      "1/1 [==============================] - 0s 6ms/step - loss: 14394.1387\n",
      "Epoch 29/150\n",
      "1/1 [==============================] - 0s 8ms/step - loss: 14393.9629\n",
      "Epoch 30/150\n",
      "1/1 [==============================] - 0s 8ms/step - loss: 14393.0439\n",
      "Epoch 31/150\n",
      "1/1 [==============================] - 0s 9ms/step - loss: 14392.2725\n",
      "Epoch 32/150\n",
      "1/1 [==============================] - 0s 9ms/step - loss: 14391.9619\n",
      "Epoch 33/150\n",
      "1/1 [==============================] - 0s 9ms/step - loss: 14391.4287\n",
      "Epoch 34/150\n",
      "1/1 [==============================] - 0s 7ms/step - loss: 14390.5146\n",
      "Epoch 35/150\n",
      "1/1 [==============================] - 0s 8ms/step - loss: 14389.8984\n",
      "Epoch 36/150\n",
      "1/1 [==============================] - 0s 8ms/step - loss: 14389.5840\n",
      "Epoch 37/150\n",
      "1/1 [==============================] - 0s 8ms/step - loss: 14388.6133\n",
      "Epoch 38/150\n",
      "1/1 [==============================] - 0s 10ms/step - loss: 14388.1133\n",
      "Epoch 39/150\n",
      "1/1 [==============================] - 0s 7ms/step - loss: 14387.5703\n",
      "Epoch 40/150\n",
      "1/1 [==============================] - 0s 8ms/step - loss: 14386.7998\n",
      "Epoch 41/150\n",
      "1/1 [==============================] - 0s 7ms/step - loss: 14386.3545\n",
      "Epoch 42/150\n",
      "1/1 [==============================] - 0s 7ms/step - loss: 14385.6934\n",
      "Epoch 43/150\n",
      "1/1 [==============================] - 0s 8ms/step - loss: 14385.0244\n",
      "Epoch 44/150\n",
      "1/1 [==============================] - 0s 9ms/step - loss: 14384.5879\n",
      "Epoch 45/150\n",
      "1/1 [==============================] - 0s 9ms/step - loss: 14383.8477\n",
      "Epoch 46/150\n",
      "1/1 [==============================] - 0s 9ms/step - loss: 14383.2461\n",
      "Epoch 47/150\n",
      "1/1 [==============================] - 0s 9ms/step - loss: 14382.6533\n",
      "Epoch 48/150\n",
      "1/1 [==============================] - 0s 8ms/step - loss: 14382.0146\n",
      "Epoch 49/150\n",
      "1/1 [==============================] - 0s 8ms/step - loss: 14381.4580\n",
      "Epoch 50/150\n",
      "1/1 [==============================] - 0s 8ms/step - loss: 14380.7822\n",
      "Epoch 51/150\n",
      "1/1 [==============================] - 0s 6ms/step - loss: 14380.2588\n",
      "Epoch 52/150\n",
      "1/1 [==============================] - 0s 8ms/step - loss: 14379.6621\n",
      "Epoch 53/150\n",
      "1/1 [==============================] - 0s 7ms/step - loss: 14379.1289\n",
      "Epoch 54/150\n",
      "1/1 [==============================] - 0s 8ms/step - loss: 14378.4355\n",
      "Epoch 55/150\n",
      "1/1 [==============================] - 0s 7ms/step - loss: 14377.9141\n",
      "Epoch 56/150\n",
      "1/1 [==============================] - 0s 7ms/step - loss: 14377.2168\n",
      "Epoch 57/150\n",
      "1/1 [==============================] - 0s 8ms/step - loss: 14376.7646\n",
      "Epoch 58/150\n",
      "1/1 [==============================] - 0s 8ms/step - loss: 14376.0605\n",
      "Epoch 59/150\n",
      "1/1 [==============================] - 0s 8ms/step - loss: 14375.6270\n",
      "Epoch 60/150\n",
      "1/1 [==============================] - 0s 7ms/step - loss: 14374.9092\n",
      "Epoch 61/150\n",
      "1/1 [==============================] - 0s 7ms/step - loss: 14374.3232\n",
      "Epoch 62/150\n",
      "1/1 [==============================] - 0s 8ms/step - loss: 14373.7031\n",
      "Epoch 63/150\n",
      "1/1 [==============================] - 0s 7ms/step - loss: 14373.1396\n",
      "Epoch 64/150\n",
      "1/1 [==============================] - 0s 7ms/step - loss: 14372.6865\n",
      "Epoch 65/150\n",
      "1/1 [==============================] - 0s 7ms/step - loss: 14371.9189\n",
      "Epoch 66/150\n",
      "1/1 [==============================] - 0s 7ms/step - loss: 14371.6201\n",
      "Epoch 67/150\n",
      "1/1 [==============================] - 0s 8ms/step - loss: 14370.8164\n",
      "Epoch 68/150\n",
      "1/1 [==============================] - 0s 7ms/step - loss: 14370.2588\n",
      "Epoch 69/150\n",
      "1/1 [==============================] - 0s 7ms/step - loss: 14369.7520\n",
      "Epoch 70/150\n",
      "1/1 [==============================] - 0s 9ms/step - loss: 14368.9795\n",
      "Epoch 71/150\n",
      "1/1 [==============================] - 0s 8ms/step - loss: 14368.6387\n",
      "Epoch 72/150\n",
      "1/1 [==============================] - 0s 9ms/step - loss: 14367.8311\n",
      "Epoch 73/150\n",
      "1/1 [==============================] - 0s 7ms/step - loss: 14367.5176\n",
      "Epoch 74/150\n",
      "1/1 [==============================] - 0s 7ms/step - loss: 14366.8594\n",
      "Epoch 75/150\n",
      "1/1 [==============================] - 0s 8ms/step - loss: 14366.2461\n",
      "Epoch 76/150\n",
      "1/1 [==============================] - 0s 8ms/step - loss: 14365.8018\n",
      "Epoch 77/150\n",
      "1/1 [==============================] - 0s 6ms/step - loss: 14364.9521\n",
      "Epoch 78/150\n",
      "1/1 [==============================] - 0s 7ms/step - loss: 14364.8574\n",
      "Epoch 79/150\n",
      "1/1 [==============================] - 0s 7ms/step - loss: 14363.9902\n",
      "Epoch 80/150\n",
      "1/1 [==============================] - 0s 8ms/step - loss: 14363.7139\n",
      "Epoch 81/150\n",
      "1/1 [==============================] - 0s 9ms/step - loss: 14362.7715\n",
      "Epoch 82/150\n",
      "1/1 [==============================] - 0s 8ms/step - loss: 14362.4658\n",
      "Epoch 83/150\n",
      "1/1 [==============================] - 0s 7ms/step - loss: 14361.6807\n",
      "Epoch 84/150\n",
      "1/1 [==============================] - 0s 9ms/step - loss: 14361.2109\n",
      "Epoch 85/150\n",
      "1/1 [==============================] - 0s 7ms/step - loss: 14360.3936\n",
      "Epoch 86/150\n",
      "1/1 [==============================] - 0s 7ms/step - loss: 14359.9453\n",
      "Epoch 87/150\n",
      "1/1 [==============================] - 0s 9ms/step - loss: 14359.2549\n",
      "Epoch 88/150\n",
      "1/1 [==============================] - 0s 7ms/step - loss: 14358.8057\n",
      "Epoch 89/150\n",
      "1/1 [==============================] - 0s 8ms/step - loss: 14358.1152\n",
      "Epoch 90/150\n",
      "1/1 [==============================] - 0s 8ms/step - loss: 14357.5381\n",
      "Epoch 91/150\n",
      "1/1 [==============================] - 0s 6ms/step - loss: 14356.9521\n",
      "Epoch 92/150\n",
      "1/1 [==============================] - 0s 8ms/step - loss: 14356.3545\n",
      "Epoch 93/150\n",
      "1/1 [==============================] - 0s 6ms/step - loss: 14355.7051\n",
      "Epoch 94/150\n",
      "1/1 [==============================] - 0s 7ms/step - loss: 14355.2559\n",
      "Epoch 95/150\n",
      "1/1 [==============================] - 0s 6ms/step - loss: 14354.5059\n",
      "Epoch 96/150\n",
      "1/1 [==============================] - 0s 8ms/step - loss: 14353.9512\n",
      "Epoch 97/150\n",
      "1/1 [==============================] - 0s 8ms/step - loss: 14353.3564\n",
      "Epoch 98/150\n",
      "1/1 [==============================] - 0s 6ms/step - loss: 14352.7783\n",
      "Epoch 99/150\n",
      "1/1 [==============================] - 0s 8ms/step - loss: 14352.1982\n",
      "Epoch 100/150\n",
      "1/1 [==============================] - 0s 6ms/step - loss: 14351.5771\n",
      "Epoch 101/150\n",
      "1/1 [==============================] - 0s 6ms/step - loss: 14351.1504\n",
      "Epoch 102/150\n",
      "1/1 [==============================] - 0s 8ms/step - loss: 14350.5586\n",
      "Epoch 103/150\n",
      "1/1 [==============================] - 0s 7ms/step - loss: 14349.8447\n",
      "Epoch 104/150\n",
      "1/1 [==============================] - 0s 7ms/step - loss: 14349.3398\n",
      "Epoch 105/150\n",
      "1/1 [==============================] - 0s 7ms/step - loss: 14348.7461\n",
      "Epoch 106/150\n",
      "1/1 [==============================] - 0s 8ms/step - loss: 14348.1045\n",
      "Epoch 107/150\n",
      "1/1 [==============================] - 0s 7ms/step - loss: 14347.5068\n",
      "Epoch 108/150\n",
      "1/1 [==============================] - 0s 8ms/step - loss: 14346.9365\n",
      "Epoch 109/150\n",
      "1/1 [==============================] - 0s 9ms/step - loss: 14346.3799\n",
      "Epoch 110/150\n",
      "1/1 [==============================] - 0s 9ms/step - loss: 14345.8447\n",
      "Epoch 111/150\n",
      "1/1 [==============================] - 0s 9ms/step - loss: 14345.2148\n",
      "Epoch 112/150\n",
      "1/1 [==============================] - 0s 9ms/step - loss: 14344.6562\n",
      "Epoch 113/150\n",
      "1/1 [==============================] - 0s 8ms/step - loss: 14344.0977\n",
      "Epoch 114/150\n",
      "1/1 [==============================] - 0s 10ms/step - loss: 14343.5195\n",
      "Epoch 115/150\n",
      "1/1 [==============================] - 0s 10ms/step - loss: 14342.9395\n",
      "Epoch 116/150\n",
      "1/1 [==============================] - 0s 7ms/step - loss: 14342.3916\n",
      "Epoch 117/150\n",
      "1/1 [==============================] - 0s 8ms/step - loss: 14341.8018\n",
      "Epoch 118/150\n",
      "1/1 [==============================] - 0s 6ms/step - loss: 14341.1670\n",
      "Epoch 119/150\n",
      "1/1 [==============================] - 0s 9ms/step - loss: 14340.5264\n",
      "Epoch 120/150\n",
      "1/1 [==============================] - 0s 10ms/step - loss: 14340.0215\n",
      "Epoch 121/150\n",
      "1/1 [==============================] - 0s 9ms/step - loss: 14339.7715\n",
      "Epoch 122/150\n",
      "1/1 [==============================] - 0s 7ms/step - loss: 14338.7646\n",
      "Epoch 123/150\n",
      "1/1 [==============================] - 0s 8ms/step - loss: 14338.4834\n",
      "Epoch 124/150\n",
      "1/1 [==============================] - 0s 7ms/step - loss: 14337.8506\n",
      "Epoch 125/150\n",
      "1/1 [==============================] - 0s 7ms/step - loss: 14337.0449\n",
      "Epoch 126/150\n",
      "1/1 [==============================] - 0s 8ms/step - loss: 14336.6963\n",
      "Epoch 127/150\n",
      "1/1 [==============================] - 0s 7ms/step - loss: 14336.0283\n",
      "Epoch 128/150\n",
      "1/1 [==============================] - 0s 7ms/step - loss: 14335.2881\n",
      "Epoch 129/150\n",
      "1/1 [==============================] - 0s 8ms/step - loss: 14335.0010\n",
      "Epoch 130/150\n",
      "1/1 [==============================] - 0s 8ms/step - loss: 14334.2314\n",
      "Epoch 131/150\n",
      "1/1 [==============================] - 0s 7ms/step - loss: 14333.5889\n",
      "Epoch 132/150\n",
      "1/1 [==============================] - 0s 7ms/step - loss: 14332.9590\n",
      "Epoch 133/150\n",
      "1/1 [==============================] - 0s 7ms/step - loss: 14332.4453\n",
      "Epoch 134/150\n",
      "1/1 [==============================] - 0s 8ms/step - loss: 14332.0674\n",
      "Epoch 135/150\n",
      "1/1 [==============================] - 0s 7ms/step - loss: 14331.2168\n",
      "Epoch 136/150\n",
      "1/1 [==============================] - 0s 7ms/step - loss: 14330.9795\n",
      "Epoch 137/150\n",
      "1/1 [==============================] - 0s 8ms/step - loss: 14330.3330\n",
      "Epoch 138/150\n",
      "1/1 [==============================] - 0s 6ms/step - loss: 14329.5479\n",
      "Epoch 139/150\n",
      "1/1 [==============================] - 0s 6ms/step - loss: 14329.4961\n",
      "Epoch 140/150\n",
      "1/1 [==============================] - 0s 8ms/step - loss: 14328.3311\n",
      "Epoch 141/150\n",
      "1/1 [==============================] - 0s 8ms/step - loss: 14328.1182\n",
      "Epoch 142/150\n",
      "1/1 [==============================] - 0s 9ms/step - loss: 14327.1797\n",
      "Epoch 143/150\n",
      "1/1 [==============================] - 0s 8ms/step - loss: 14326.9561\n",
      "Epoch 144/150\n",
      "1/1 [==============================] - 0s 8ms/step - loss: 14326.1963\n",
      "Epoch 145/150\n",
      "1/1 [==============================] - 0s 7ms/step - loss: 14325.6523\n",
      "Epoch 146/150\n",
      "1/1 [==============================] - 0s 8ms/step - loss: 14325.4551\n",
      "Epoch 147/150\n",
      "1/1 [==============================] - 0s 9ms/step - loss: 14324.3643\n",
      "Epoch 148/150\n",
      "1/1 [==============================] - 0s 7ms/step - loss: 14324.4990\n",
      "Epoch 149/150\n",
      "1/1 [==============================] - 0s 6ms/step - loss: 14323.3838\n",
      "Epoch 150/150\n",
      "1/1 [==============================] - 0s 6ms/step - loss: 14323.5654\n"
     ]
    },
    {
     "data": {
      "text/plain": [
       "<keras.callbacks.History at 0x7fceb5b12a10>"
      ]
     },
     "execution_count": 115,
     "metadata": {},
     "output_type": "execute_result"
    }
   ],
   "source": [
    "model.fit(\n",
    "    x, y,\n",
    "    batch_size=1500,\n",
    "    epochs=150,\n",
    ")"
   ]
  },
  {
   "cell_type": "code",
   "execution_count": 116,
   "id": "0e66ab9f-4b9c-4911-aca6-db462c6dd8e0",
   "metadata": {},
   "outputs": [],
   "source": [
    "df=pd.read_csv('test.csv')"
   ]
  },
  {
   "cell_type": "code",
   "execution_count": 117,
   "id": "3099c451-bebb-480c-802c-02c1d28b7ee9",
   "metadata": {},
   "outputs": [],
   "source": [
    "df[:] = nt.fit_transform(df)"
   ]
  },
  {
   "cell_type": "code",
   "execution_count": 118,
   "id": "e0c19bf4-daf0-4e50-a373-6558fb97a1f7",
   "metadata": {},
   "outputs": [],
   "source": [
    "xv = preprocessor.fit_transform(df)"
   ]
  },
  {
   "cell_type": "code",
   "execution_count": 119,
   "id": "627a516d-6046-46ca-adae-5fef9dc60c99",
   "metadata": {},
   "outputs": [
    {
     "name": "stdout",
     "output_type": "stream",
     "text": [
      "46/46 [==============================] - 0s 1ms/step\n"
     ]
    },
    {
     "data": {
      "text/plain": [
       "array([[111641.41],\n",
       "       [151862.66],\n",
       "       [169070.72],\n",
       "       ...,\n",
       "       [162519.92],\n",
       "       [110501.85],\n",
       "       [219228.8 ]], dtype=float32)"
      ]
     },
     "execution_count": 119,
     "metadata": {},
     "output_type": "execute_result"
    }
   ],
   "source": [
    "model.predict(xv)"
   ]
  },
  {
   "cell_type": "code",
   "execution_count": 112,
   "id": "51be6201-13c1-47b8-9e38-904484f089b3",
   "metadata": {},
   "outputs": [
    {
     "name": "stdout",
     "output_type": "stream",
     "text": [
      "46/46 [==============================] - 0s 1ms/step\n"
     ]
    }
   ],
   "source": [
    "test=model.predict(xv)"
   ]
  },
  {
   "cell_type": "code",
   "execution_count": 113,
   "id": "9fc29ae0-0394-4497-8473-a29d9ec32496",
   "metadata": {},
   "outputs": [],
   "source": [
    "t=[]\n",
    "for q in test:\n",
    "    t.append(q[0])"
   ]
  },
  {
   "cell_type": "code",
   "execution_count": 114,
   "id": "75e3cc08-6431-47e0-80ca-b7eb4499391f",
   "metadata": {},
   "outputs": [],
   "source": [
    "output = pd.DataFrame({'Id': df.Id,\n",
    "                       'SalePrice': t})\n",
    "output.to_csv('submission.csv', index=False)"
   ]
  },
  {
   "cell_type": "code",
   "execution_count": 120,
   "id": "52424496-b9e2-4269-9577-4d6782de71ef",
   "metadata": {},
   "outputs": [
    {
     "ename": "NameError",
     "evalue": "name 'animate_sgd' is not defined",
     "output_type": "error",
     "traceback": [
      "\u001b[0;31m---------------------------------------------------------------------------\u001b[0m",
      "\u001b[0;31mNameError\u001b[0m                                 Traceback (most recent call last)",
      "Cell \u001b[0;32mIn [120], line 1\u001b[0m\n\u001b[0;32m----> 1\u001b[0m animate_sgd(\n\u001b[1;32m      2\u001b[0m     learning_rate\u001b[38;5;241m=\u001b[39mlearning_rate,\n\u001b[1;32m      3\u001b[0m     batch_size\u001b[38;5;241m=\u001b[39mbatch_size,\n\u001b[1;32m      4\u001b[0m     num_examples\u001b[38;5;241m=\u001b[39mnum_examples,\n\u001b[1;32m      5\u001b[0m     \u001b[38;5;66;03m# You can also change these, if you like\u001b[39;00m\n\u001b[1;32m      6\u001b[0m     steps\u001b[38;5;241m=\u001b[39m\u001b[38;5;241m50\u001b[39m, \u001b[38;5;66;03m# total training steps (batches seen)\u001b[39;00m\n\u001b[1;32m      7\u001b[0m     true_w\u001b[38;5;241m=\u001b[39m\u001b[38;5;241m3.0\u001b[39m, \u001b[38;5;66;03m# the slope of the data\u001b[39;00m\n\u001b[1;32m      8\u001b[0m     true_b\u001b[38;5;241m=\u001b[39m\u001b[38;5;241m2.0\u001b[39m, \u001b[38;5;66;03m# the bias of the data\u001b[39;00m\n\u001b[1;32m      9\u001b[0m )\n",
      "\u001b[0;31mNameError\u001b[0m: name 'animate_sgd' is not defined"
     ]
    }
   ],
   "source": [
    "animate_sgd(\n",
    "    learning_rate=learning_rate,\n",
    "    batch_size=batch_size,\n",
    "    num_examples=num_examples,\n",
    "    # You can also change these, if you like\n",
    "    steps=50, # total training steps (batches seen)\n",
    "    true_w=3.0, # the slope of the data\n",
    "    true_b=2.0, # the bias of the data\n",
    ")"
   ]
  },
  {
   "cell_type": "code",
   "execution_count": null,
   "id": "f5de414e-f7f1-46fc-982b-e22e5858ebca",
   "metadata": {},
   "outputs": [],
   "source": []
  }
 ],
 "metadata": {
  "kernelspec": {
   "display_name": "Python 3 (ipykernel)",
   "language": "python",
   "name": "python3"
  },
  "language_info": {
   "codemirror_mode": {
    "name": "ipython",
    "version": 3
   },
   "file_extension": ".py",
   "mimetype": "text/x-python",
   "name": "python",
   "nbconvert_exporter": "python",
   "pygments_lexer": "ipython3",
   "version": "3.10.7"
  }
 },
 "nbformat": 4,
 "nbformat_minor": 5
}
