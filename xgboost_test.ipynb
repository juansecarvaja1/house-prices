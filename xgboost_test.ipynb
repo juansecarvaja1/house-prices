{
 "cells": [
  {
   "cell_type": "code",
   "execution_count": 1,
   "id": "9f390079-4c5e-40ec-b378-6cb6e3ca48f9",
   "metadata": {},
   "outputs": [],
   "source": [
    "from sklearn.metrics import mean_absolute_error as mae\n",
    "import pandas as pd\n",
    "from xgboost import XGBRegressor\n",
    "from sklearn.preprocessing import OrdinalEncoder\n",
    "from sklearn.model_selection import train_test_split as tts"
   ]
  },
  {
   "cell_type": "code",
   "execution_count": 2,
   "id": "757b2c81-b2a3-4c44-814e-43dbc5006f08",
   "metadata": {},
   "outputs": [],
   "source": [
    "train=pd.read_csv('train.csv')"
   ]
  },
  {
   "cell_type": "code",
   "execution_count": 3,
   "id": "eec08fea-9fe7-4cf5-a231-865135252380",
   "metadata": {},
   "outputs": [],
   "source": [
    "y= train.SalePrice\n",
    "train.pop('SalePrice')\n",
    "x=train"
   ]
  },
  {
   "cell_type": "code",
   "execution_count": 4,
   "id": "8cf6a820-4497-4747-b357-32ae7581a554",
   "metadata": {},
   "outputs": [],
   "source": [
    "tx, vx, ty, vy=tts(x,y, random_state=0)"
   ]
  },
  {
   "cell_type": "code",
   "execution_count": 5,
   "id": "bffc2eab-c356-4289-898b-1a83f3920fcf",
   "metadata": {},
   "outputs": [],
   "source": [
    "categorical_cols = [cname for cname in x.columns if\n",
    "                    x[cname].dtype == \"object\"]"
   ]
  },
  {
   "cell_type": "code",
   "execution_count": 6,
   "id": "594b1d73-6358-426b-a76f-769dda90d1be",
   "metadata": {},
   "outputs": [],
   "source": [
    "oe=OrdinalEncoder()"
   ]
  },
  {
   "cell_type": "code",
   "execution_count": 7,
   "id": "05a555f2-5724-4432-aa46-44e37ee17c5c",
   "metadata": {},
   "outputs": [],
   "source": [
    "tx[categorical_cols ] = oe.fit_transform(tx[categorical_cols])\n",
    "vx[categorical_cols ] = oe.fit_transform(vx[categorical_cols])"
   ]
  },
  {
   "cell_type": "code",
   "execution_count": 45,
   "id": "cdfe83b1-1097-48ca-8ae6-24f754e9e353",
   "metadata": {},
   "outputs": [],
   "source": [
    "def min_mae(x, tx=tx, vx=vx, ty=ty, vy=vy):\n",
    "    md=XGBRegressor(n_estimators=x, learning_rate=0.08)\n",
    "    md.fit(tx,ty)\n",
    "    pr= md.predict(vx)\n",
    "    m=mae(pr, vy)\n",
    "    q=x\n",
    "    for y in range(400, x):\n",
    "        md=XGBRegressor(n_estimators=y, learning_rate=0.07)\n",
    "        md.fit(tx, ty)\n",
    "        pr= md.predict(vx)\n",
    "        mn=mae(pr, vy)\n",
    "        if mn<m:\n",
    "            q=y\n",
    "            m=mn\n",
    "    return q, m"
   ]
  },
  {
   "cell_type": "code",
   "execution_count": 46,
   "id": "59d483ff-bcd2-42e7-bb6a-cbbf238fe411",
   "metadata": {},
   "outputs": [
    {
     "data": {
      "text/plain": [
       "(498, 16800.83004066781)"
      ]
     },
     "execution_count": 46,
     "metadata": {},
     "output_type": "execute_result"
    }
   ],
   "source": [
    "min_mae(500)"
   ]
  },
  {
   "cell_type": "code",
   "execution_count": null,
   "id": "56d95779-0ddd-441b-b235-df9e8edb4df7",
   "metadata": {},
   "outputs": [],
   "source": []
  }
 ],
 "metadata": {
  "kernelspec": {
   "display_name": "Python 3 (ipykernel)",
   "language": "python",
   "name": "python3"
  },
  "language_info": {
   "codemirror_mode": {
    "name": "ipython",
    "version": 3
   },
   "file_extension": ".py",
   "mimetype": "text/x-python",
   "name": "python",
   "nbconvert_exporter": "python",
   "pygments_lexer": "ipython3",
   "version": "3.10.7"
  }
 },
 "nbformat": 4,
 "nbformat_minor": 5
}
