{
 "cells": [
  {
   "cell_type": "code",
   "execution_count": 1,
   "id": "026ce300",
   "metadata": {},
   "outputs": [],
   "source": [
    "import pandas as pd\n",
    "from sklearn.tree import DecisionTreeRegressor \n",
    "from sklearn.model_selection import train_test_split as tts\n",
    "from sklearn.metrics import mean_absolute_error as mae"
   ]
  },
  {
   "cell_type": "code",
   "execution_count": 2,
   "id": "9aac2795",
   "metadata": {},
   "outputs": [],
   "source": [
    "path=\"train.csv\"\n",
    "ds=pd.read_csv(path)"
   ]
  },
  {
   "cell_type": "code",
   "execution_count": 3,
   "id": "fe669aa6",
   "metadata": {},
   "outputs": [],
   "source": [
    "y=ds.SalePrice\n",
    "feature_columns = ['LotArea', 'YearBuilt', '1stFlrSF', '2ndFlrSF', 'FullBath', 'BedroomAbvGr', 'TotRmsAbvGrd']\n",
    "x=ds[feature_columns]"
   ]
  },
  {
   "cell_type": "code",
   "execution_count": 4,
   "id": "2dd10687",
   "metadata": {},
   "outputs": [],
   "source": [
    "tx, vx, ty, vy=tts(x,y, random_state=1)"
   ]
  },
  {
   "cell_type": "code",
   "execution_count": 9,
   "id": "a396403f",
   "metadata": {},
   "outputs": [],
   "source": [
    "def min_mae(x, tx, vx, ty,vy):\n",
    "    mdt=DecisionTreeRegressor(random_state=1, max_leaf_nodes=x)\n",
    "    mdt.fit(tx, ty)\n",
    "    pr= mdt.predict(vx)\n",
    "    m=mae(pr, vy)\n",
    "    q=x\n",
    "    for y in range(2, x):\n",
    "        mdt=DecisionTreeRegressor(random_state=1, max_leaf_nodes=y)\n",
    "        mdt.fit(tx, ty)\n",
    "        pr= mdt.predict(vx)\n",
    "        mn=mae(pr, vy)\n",
    "        if mn<m:\n",
    "            q=y\n",
    "            m=mn\n",
    "    return q, m"
   ]
  },
  {
   "cell_type": "code",
   "execution_count": 14,
   "id": "28727b2b",
   "metadata": {},
   "outputs": [
    {
     "data": {
      "text/plain": [
       "(71, 26704.033546536175)"
      ]
     },
     "execution_count": 14,
     "metadata": {},
     "output_type": "execute_result"
    }
   ],
   "source": [
    "min_mae(1000, tx, vx, ty, vy)"
   ]
  },
  {
   "cell_type": "code",
   "execution_count": 13,
   "id": "1188a772",
   "metadata": {},
   "outputs": [
    {
     "name": "stdout",
     "output_type": "stream",
     "text": [
      "258     231500\n",
      "267     179500\n",
      "288     122000\n",
      "649      84500\n",
      "1233    142000\n",
      "Name: SalePrice, dtype: int64\n",
      "[181225.35416667 130647.68518519 125404.5         94060.\n",
      " 149639.97826087]\n"
     ]
    },
    {
     "name": "stderr",
     "output_type": "stream",
     "text": [
      "/tmp/ipykernel_150169/4108898512.py:4: FutureWarning: The behavior of `series[i:j]` with an integer-dtype index is deprecated. In a future version, this will be treated as *label-based* indexing, consistent with e.g. `series[i]` lookups. To retain the old behavior, use `series.iloc[i:j]`. To get the future behavior, use `series.loc[i:j]`.\n",
      "  print(vy[: 5])\n"
     ]
    }
   ],
   "source": [
    "md=DecisionTreeRegressor(random_state=1, max_leaf_nodes=71)\n",
    "md.fit(tx, ty)\n",
    "pv=md.predict(vx)\n",
    "print(vy[: 5])\n",
    "print(pv[: 5])"
   ]
  }
 ],
 "metadata": {
  "kernelspec": {
   "display_name": "Python 3 (ipykernel)",
   "language": "python",
   "name": "python3"
  },
  "language_info": {
   "codemirror_mode": {
    "name": "ipython",
    "version": 3
   },
   "file_extension": ".py",
   "mimetype": "text/x-python",
   "name": "python",
   "nbconvert_exporter": "python",
   "pygments_lexer": "ipython3",
   "version": "3.10.7"
  }
 },
 "nbformat": 4,
 "nbformat_minor": 5
}
