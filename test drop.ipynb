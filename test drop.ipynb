{
 "cells": [
  {
   "cell_type": "code",
   "execution_count": 1,
   "id": "c893fb6a",
   "metadata": {},
   "outputs": [],
   "source": [
    "from sklearn.model_selection import train_test_split as tts\n",
    "from sklearn.metrics import mean_absolute_error as mae\n",
    "import pandas as pd\n",
    "from sklearn.ensemble import RandomForestRegressor"
   ]
  },
  {
   "cell_type": "code",
   "execution_count": 2,
   "id": "d7ff79d8",
   "metadata": {},
   "outputs": [],
   "source": [
    "path=\"train.csv\"\n",
    "ds=pd.read_csv(path)"
   ]
  },
  {
   "cell_type": "code",
   "execution_count": 3,
   "id": "587e2142",
   "metadata": {},
   "outputs": [],
   "source": [
    "y= ds.SalePrice\n",
    "ds.pop('SalePrice')\n",
    "x=ds.select_dtypes(exclude=['object'])"
   ]
  },
  {
   "cell_type": "code",
   "execution_count": 4,
   "id": "d44abea5",
   "metadata": {},
   "outputs": [],
   "source": [
    "tx, vx, ty, vy=tts(x,y, random_state=1)"
   ]
  },
  {
   "cell_type": "code",
   "execution_count": 8,
   "id": "2f4c0743",
   "metadata": {},
   "outputs": [],
   "source": [
    "def min_mae(x, tx=tx, vx=vx, ty=ty ,vy=vy):\n",
    "    mdt=RandomForestRegressor(random_state=1, max_leaf_nodes=x)\n",
    "    mdt.fit(tx, ty)\n",
    "    pr= mdt.predict(vx)\n",
    "    m=mae(pr, vy)\n",
    "    q=x\n",
    "    for y in range(250, x):\n",
    "        mdt=RandomForestRegressor(random_state=1, max_leaf_nodes=y)\n",
    "        mdt.fit(tx, ty)\n",
    "        pr= mdt.predict(vx)\n",
    "        mn=mae(pr, vy)\n",
    "        if mn<m:\n",
    "            q=y\n",
    "            m=mn\n",
    "    return q, m"
   ]
  },
  {
   "cell_type": "code",
   "execution_count": 6,
   "id": "b2f793e1",
   "metadata": {},
   "outputs": [],
   "source": [
    "cols_with_missing = [col for col in tx.columns\n",
    "                     if tx[col].isnull().any()]"
   ]
  },
  {
   "cell_type": "code",
   "execution_count": 7,
   "id": "0ca02b91",
   "metadata": {},
   "outputs": [],
   "source": [
    "tx=tx.drop(cols_with_missing, axis=1)\n",
    "vx=vx.drop(cols_with_missing, axis=1)"
   ]
  },
  {
   "cell_type": "code",
   "execution_count": 10,
   "id": "9708fb07",
   "metadata": {},
   "outputs": [
    {
     "data": {
      "text/plain": [
       "(279, 17008.106381448328)"
      ]
     },
     "execution_count": 10,
     "metadata": {},
     "output_type": "execute_result"
    }
   ],
   "source": [
    "min_mae(300)"
   ]
  },
  {
   "cell_type": "code",
   "execution_count": null,
   "id": "679961f2",
   "metadata": {},
   "outputs": [],
   "source": [
    "+"
   ]
  }
 ],
 "metadata": {
  "kernelspec": {
   "display_name": "Python 3 (ipykernel)",
   "language": "python",
   "name": "python3"
  },
  "language_info": {
   "codemirror_mode": {
    "name": "ipython",
    "version": 3
   },
   "file_extension": ".py",
   "mimetype": "text/x-python",
   "name": "python",
   "nbconvert_exporter": "python",
   "pygments_lexer": "ipython3",
   "version": "3.10.7"
  }
 },
 "nbformat": 4,
 "nbformat_minor": 5
}
